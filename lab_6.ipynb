{
 "cells": [
  {
   "cell_type": "code",
   "execution_count": 22,
   "id": "3b6f8888-b1c2-4be3-a2ad-718543652151",
   "metadata": {},
   "outputs": [],
   "source": [
    "import numpy as np\n",
    "import pandas as pd\n",
    "import seaborn as sns"
   ]
  },
  {
   "cell_type": "code",
   "execution_count": 23,
   "id": "0c0651ad-c860-4b92-b9cd-ad8fb27e75d8",
   "metadata": {},
   "outputs": [],
   "source": [
    "df=pd.read_csv('project_data.csv')"
   ]
  },
  {
   "cell_type": "code",
   "execution_count": 42,
   "id": "ff6ae074-8961-4ae6-86a9-3a95050f9246",
   "metadata": {},
   "outputs": [],
   "source": [
    "df.drop('fname',axis=1,inplace=True)"
   ]
  },
  {
   "cell_type": "code",
   "execution_count": 43,
   "id": "255f050a-74a3-4328-992f-78d0fcc39634",
   "metadata": {},
   "outputs": [
    {
     "data": {
      "text/plain": [
       "array([3333, 3334, 3335, 3337, 3342, 3343, 3346, 3349, 3350, 3351, 3352,\n",
       "       3353, 3354, 3355, 3356, 3357, 3358, 3359, 3360, 3361, 3362, 3363,\n",
       "       3364, 3365, 3366, 3367, 3368, 3370, 3371, 3372, 3373, 3374, 3375,\n",
       "       3376, 3377, 3378, 3379, 3380, 3381, 3382, 3383, 3384, 3385, 3450,\n",
       "       3451, 3452, 3453, 3454], dtype=int64)"
      ]
     },
     "execution_count": 43,
     "metadata": {},
     "output_type": "execute_result"
    }
   ],
   "source": [
    "df['label'].unique()"
   ]
  },
  {
   "cell_type": "code",
   "execution_count": 44,
   "id": "87152a95-3bf3-452a-ade9-08c794e1d3d9",
   "metadata": {},
   "outputs": [],
   "source": [
    "df_data_1=df.loc[df['label']==3333]"
   ]
  },
  {
   "cell_type": "code",
   "execution_count": 45,
   "id": "0d3e4c13-e7cd-4137-9a8c-343a24bd365e",
   "metadata": {},
   "outputs": [],
   "source": [
    "df_data_2=df.loc[df['label']==3334]"
   ]
  },
  {
   "cell_type": "code",
   "execution_count": 46,
   "id": "0e36a46a-7f71-4d55-a231-378888331d5c",
   "metadata": {},
   "outputs": [
    {
     "name": "stdout",
     "output_type": "stream",
     "text": [
      "<class 'pandas.core.frame.DataFrame'>\n",
      "RangeIndex: 3287 entries, 0 to 3286\n",
      "Data columns (total 25 columns):\n",
      " #   Column             Non-Null Count  Dtype  \n",
      "---  ------             --------------  -----  \n",
      " 0   dissimilarity_0    3287 non-null   float64\n",
      " 1   dissimilarity_45   3287 non-null   float64\n",
      " 2   dissimilarity_90   3287 non-null   float64\n",
      " 3   dissimilarity_135  3287 non-null   float64\n",
      " 4   correlation_0      3287 non-null   float64\n",
      " 5   correlation_45     3287 non-null   float64\n",
      " 6   correlation_90     3287 non-null   float64\n",
      " 7   correlation_135    3287 non-null   float64\n",
      " 8   homogeneity_0      3287 non-null   float64\n",
      " 9   homogeneity_45     3287 non-null   float64\n",
      " 10  homogeneity_90     3287 non-null   float64\n",
      " 11  homogeneity_135    3287 non-null   float64\n",
      " 12  contrast_0         3287 non-null   float64\n",
      " 13  contrast_45        3287 non-null   float64\n",
      " 14  contrast_90        3287 non-null   float64\n",
      " 15  contrast_135       3287 non-null   float64\n",
      " 16  ASM_0              3287 non-null   float64\n",
      " 17  ASM_45             3287 non-null   float64\n",
      " 18  ASM_90             3287 non-null   float64\n",
      " 19  ASM_135            3287 non-null   float64\n",
      " 20  energy_0           3287 non-null   float64\n",
      " 21  energy_45          3287 non-null   float64\n",
      " 22  energy_90          3287 non-null   float64\n",
      " 23  energy_135         3287 non-null   float64\n",
      " 24  label              3287 non-null   int64  \n",
      "dtypes: float64(24), int64(1)\n",
      "memory usage: 642.1 KB\n"
     ]
    }
   ],
   "source": [
    "df.info()"
   ]
  },
  {
   "cell_type": "code",
   "execution_count": 47,
   "id": "75bc8ac1-fd5b-49e3-b534-286273d37ce6",
   "metadata": {},
   "outputs": [],
   "source": [
    "df_data=pd.concat([df_data_1,df_data_2],ignore_index=True)"
   ]
  },
  {
   "cell_type": "code",
   "execution_count": 48,
   "id": "8eea150c-6813-45cb-834f-108710bebb54",
   "metadata": {},
   "outputs": [
    {
     "data": {
      "text/html": [
       "<div>\n",
       "<style scoped>\n",
       "    .dataframe tbody tr th:only-of-type {\n",
       "        vertical-align: middle;\n",
       "    }\n",
       "\n",
       "    .dataframe tbody tr th {\n",
       "        vertical-align: top;\n",
       "    }\n",
       "\n",
       "    .dataframe thead th {\n",
       "        text-align: right;\n",
       "    }\n",
       "</style>\n",
       "<table border=\"1\" class=\"dataframe\">\n",
       "  <thead>\n",
       "    <tr style=\"text-align: right;\">\n",
       "      <th></th>\n",
       "      <th>dissimilarity_0</th>\n",
       "      <th>dissimilarity_45</th>\n",
       "      <th>dissimilarity_90</th>\n",
       "      <th>dissimilarity_135</th>\n",
       "      <th>correlation_0</th>\n",
       "      <th>correlation_45</th>\n",
       "      <th>correlation_90</th>\n",
       "      <th>correlation_135</th>\n",
       "      <th>homogeneity_0</th>\n",
       "      <th>homogeneity_45</th>\n",
       "      <th>...</th>\n",
       "      <th>contrast_135</th>\n",
       "      <th>ASM_0</th>\n",
       "      <th>ASM_45</th>\n",
       "      <th>ASM_90</th>\n",
       "      <th>ASM_135</th>\n",
       "      <th>energy_0</th>\n",
       "      <th>energy_45</th>\n",
       "      <th>energy_90</th>\n",
       "      <th>energy_135</th>\n",
       "      <th>label</th>\n",
       "    </tr>\n",
       "  </thead>\n",
       "  <tbody>\n",
       "    <tr>\n",
       "      <th>0</th>\n",
       "      <td>17.216435</td>\n",
       "      <td>21.119725</td>\n",
       "      <td>20.889887</td>\n",
       "      <td>21.543330</td>\n",
       "      <td>0.491436</td>\n",
       "      <td>0.390284</td>\n",
       "      <td>0.389736</td>\n",
       "      <td>0.378055</td>\n",
       "      <td>0.932486</td>\n",
       "      <td>0.917179</td>\n",
       "      <td>...</td>\n",
       "      <td>5493.549025</td>\n",
       "      <td>0.804286</td>\n",
       "      <td>0.788199</td>\n",
       "      <td>0.790551</td>\n",
       "      <td>0.786816</td>\n",
       "      <td>0.896820</td>\n",
       "      <td>0.887806</td>\n",
       "      <td>0.889129</td>\n",
       "      <td>0.887027</td>\n",
       "      <td>3333</td>\n",
       "    </tr>\n",
       "    <tr>\n",
       "      <th>1</th>\n",
       "      <td>12.143708</td>\n",
       "      <td>15.748918</td>\n",
       "      <td>14.495192</td>\n",
       "      <td>15.859307</td>\n",
       "      <td>0.504656</td>\n",
       "      <td>0.375442</td>\n",
       "      <td>0.414030</td>\n",
       "      <td>0.371065</td>\n",
       "      <td>0.952378</td>\n",
       "      <td>0.938240</td>\n",
       "      <td>...</td>\n",
       "      <td>4044.123377</td>\n",
       "      <td>0.858505</td>\n",
       "      <td>0.843167</td>\n",
       "      <td>0.849379</td>\n",
       "      <td>0.842788</td>\n",
       "      <td>0.926556</td>\n",
       "      <td>0.918241</td>\n",
       "      <td>0.921618</td>\n",
       "      <td>0.918035</td>\n",
       "      <td>3333</td>\n",
       "    </tr>\n",
       "    <tr>\n",
       "      <th>2</th>\n",
       "      <td>17.216435</td>\n",
       "      <td>21.119725</td>\n",
       "      <td>20.889887</td>\n",
       "      <td>21.543330</td>\n",
       "      <td>0.491436</td>\n",
       "      <td>0.390284</td>\n",
       "      <td>0.389736</td>\n",
       "      <td>0.378055</td>\n",
       "      <td>0.932486</td>\n",
       "      <td>0.917179</td>\n",
       "      <td>...</td>\n",
       "      <td>5493.549025</td>\n",
       "      <td>0.804286</td>\n",
       "      <td>0.788199</td>\n",
       "      <td>0.790551</td>\n",
       "      <td>0.786816</td>\n",
       "      <td>0.896820</td>\n",
       "      <td>0.887806</td>\n",
       "      <td>0.889129</td>\n",
       "      <td>0.887027</td>\n",
       "      <td>3333</td>\n",
       "    </tr>\n",
       "    <tr>\n",
       "      <th>3</th>\n",
       "      <td>12.019049</td>\n",
       "      <td>15.824242</td>\n",
       "      <td>14.639564</td>\n",
       "      <td>16.002597</td>\n",
       "      <td>0.536540</td>\n",
       "      <td>0.396562</td>\n",
       "      <td>0.428353</td>\n",
       "      <td>0.388649</td>\n",
       "      <td>0.937824</td>\n",
       "      <td>0.921008</td>\n",
       "      <td>...</td>\n",
       "      <td>3810.042280</td>\n",
       "      <td>0.841781</td>\n",
       "      <td>0.823179</td>\n",
       "      <td>0.829753</td>\n",
       "      <td>0.822738</td>\n",
       "      <td>0.917486</td>\n",
       "      <td>0.907292</td>\n",
       "      <td>0.910908</td>\n",
       "      <td>0.907049</td>\n",
       "      <td>3333</td>\n",
       "    </tr>\n",
       "    <tr>\n",
       "      <th>4</th>\n",
       "      <td>13.591560</td>\n",
       "      <td>16.543238</td>\n",
       "      <td>12.819549</td>\n",
       "      <td>14.969519</td>\n",
       "      <td>0.398153</td>\n",
       "      <td>0.288259</td>\n",
       "      <td>0.437464</td>\n",
       "      <td>0.355965</td>\n",
       "      <td>0.946701</td>\n",
       "      <td>0.935126</td>\n",
       "      <td>...</td>\n",
       "      <td>3817.227365</td>\n",
       "      <td>0.860980</td>\n",
       "      <td>0.848183</td>\n",
       "      <td>0.862887</td>\n",
       "      <td>0.853592</td>\n",
       "      <td>0.927890</td>\n",
       "      <td>0.920969</td>\n",
       "      <td>0.928917</td>\n",
       "      <td>0.923900</td>\n",
       "      <td>3333</td>\n",
       "    </tr>\n",
       "    <tr>\n",
       "      <th>...</th>\n",
       "      <td>...</td>\n",
       "      <td>...</td>\n",
       "      <td>...</td>\n",
       "      <td>...</td>\n",
       "      <td>...</td>\n",
       "      <td>...</td>\n",
       "      <td>...</td>\n",
       "      <td>...</td>\n",
       "      <td>...</td>\n",
       "      <td>...</td>\n",
       "      <td>...</td>\n",
       "      <td>...</td>\n",
       "      <td>...</td>\n",
       "      <td>...</td>\n",
       "      <td>...</td>\n",
       "      <td>...</td>\n",
       "      <td>...</td>\n",
       "      <td>...</td>\n",
       "      <td>...</td>\n",
       "      <td>...</td>\n",
       "      <td>...</td>\n",
       "    </tr>\n",
       "    <tr>\n",
       "      <th>155</th>\n",
       "      <td>14.978299</td>\n",
       "      <td>15.091682</td>\n",
       "      <td>12.062194</td>\n",
       "      <td>14.863596</td>\n",
       "      <td>0.382378</td>\n",
       "      <td>0.395100</td>\n",
       "      <td>0.506882</td>\n",
       "      <td>0.404242</td>\n",
       "      <td>0.941262</td>\n",
       "      <td>0.940818</td>\n",
       "      <td>...</td>\n",
       "      <td>3790.216905</td>\n",
       "      <td>0.849608</td>\n",
       "      <td>0.846480</td>\n",
       "      <td>0.859009</td>\n",
       "      <td>0.847270</td>\n",
       "      <td>0.921742</td>\n",
       "      <td>0.920044</td>\n",
       "      <td>0.926827</td>\n",
       "      <td>0.920472</td>\n",
       "      <td>3334</td>\n",
       "    </tr>\n",
       "    <tr>\n",
       "      <th>156</th>\n",
       "      <td>14.978299</td>\n",
       "      <td>15.091682</td>\n",
       "      <td>12.062194</td>\n",
       "      <td>14.863596</td>\n",
       "      <td>0.382378</td>\n",
       "      <td>0.395100</td>\n",
       "      <td>0.506882</td>\n",
       "      <td>0.404242</td>\n",
       "      <td>0.941262</td>\n",
       "      <td>0.940818</td>\n",
       "      <td>...</td>\n",
       "      <td>3790.216905</td>\n",
       "      <td>0.849608</td>\n",
       "      <td>0.846480</td>\n",
       "      <td>0.859009</td>\n",
       "      <td>0.847270</td>\n",
       "      <td>0.921742</td>\n",
       "      <td>0.920044</td>\n",
       "      <td>0.926827</td>\n",
       "      <td>0.920472</td>\n",
       "      <td>3334</td>\n",
       "    </tr>\n",
       "    <tr>\n",
       "      <th>157</th>\n",
       "      <td>14.978299</td>\n",
       "      <td>15.091682</td>\n",
       "      <td>12.062194</td>\n",
       "      <td>14.863596</td>\n",
       "      <td>0.382378</td>\n",
       "      <td>0.395100</td>\n",
       "      <td>0.506882</td>\n",
       "      <td>0.404242</td>\n",
       "      <td>0.941262</td>\n",
       "      <td>0.940818</td>\n",
       "      <td>...</td>\n",
       "      <td>3790.216905</td>\n",
       "      <td>0.849608</td>\n",
       "      <td>0.846480</td>\n",
       "      <td>0.859009</td>\n",
       "      <td>0.847270</td>\n",
       "      <td>0.921742</td>\n",
       "      <td>0.920044</td>\n",
       "      <td>0.926827</td>\n",
       "      <td>0.920472</td>\n",
       "      <td>3334</td>\n",
       "    </tr>\n",
       "    <tr>\n",
       "      <th>158</th>\n",
       "      <td>14.708189</td>\n",
       "      <td>16.386777</td>\n",
       "      <td>13.636689</td>\n",
       "      <td>16.067904</td>\n",
       "      <td>0.485341</td>\n",
       "      <td>0.414330</td>\n",
       "      <td>0.514000</td>\n",
       "      <td>0.428009</td>\n",
       "      <td>0.911815</td>\n",
       "      <td>0.899682</td>\n",
       "      <td>...</td>\n",
       "      <td>3585.512001</td>\n",
       "      <td>0.801424</td>\n",
       "      <td>0.787671</td>\n",
       "      <td>0.795795</td>\n",
       "      <td>0.788359</td>\n",
       "      <td>0.895223</td>\n",
       "      <td>0.887508</td>\n",
       "      <td>0.892073</td>\n",
       "      <td>0.887896</td>\n",
       "      <td>3334</td>\n",
       "    </tr>\n",
       "    <tr>\n",
       "      <th>159</th>\n",
       "      <td>14.978299</td>\n",
       "      <td>15.091682</td>\n",
       "      <td>12.062194</td>\n",
       "      <td>14.863596</td>\n",
       "      <td>0.382378</td>\n",
       "      <td>0.395100</td>\n",
       "      <td>0.506882</td>\n",
       "      <td>0.404242</td>\n",
       "      <td>0.941262</td>\n",
       "      <td>0.940818</td>\n",
       "      <td>...</td>\n",
       "      <td>3790.216905</td>\n",
       "      <td>0.849608</td>\n",
       "      <td>0.846480</td>\n",
       "      <td>0.859009</td>\n",
       "      <td>0.847270</td>\n",
       "      <td>0.921742</td>\n",
       "      <td>0.920044</td>\n",
       "      <td>0.926827</td>\n",
       "      <td>0.920472</td>\n",
       "      <td>3334</td>\n",
       "    </tr>\n",
       "  </tbody>\n",
       "</table>\n",
       "<p>160 rows × 25 columns</p>\n",
       "</div>"
      ],
      "text/plain": [
       "     dissimilarity_0  dissimilarity_45  dissimilarity_90  dissimilarity_135  \\\n",
       "0          17.216435         21.119725         20.889887          21.543330   \n",
       "1          12.143708         15.748918         14.495192          15.859307   \n",
       "2          17.216435         21.119725         20.889887          21.543330   \n",
       "3          12.019049         15.824242         14.639564          16.002597   \n",
       "4          13.591560         16.543238         12.819549          14.969519   \n",
       "..               ...               ...               ...                ...   \n",
       "155        14.978299         15.091682         12.062194          14.863596   \n",
       "156        14.978299         15.091682         12.062194          14.863596   \n",
       "157        14.978299         15.091682         12.062194          14.863596   \n",
       "158        14.708189         16.386777         13.636689          16.067904   \n",
       "159        14.978299         15.091682         12.062194          14.863596   \n",
       "\n",
       "     correlation_0  correlation_45  correlation_90  correlation_135  \\\n",
       "0         0.491436        0.390284        0.389736         0.378055   \n",
       "1         0.504656        0.375442        0.414030         0.371065   \n",
       "2         0.491436        0.390284        0.389736         0.378055   \n",
       "3         0.536540        0.396562        0.428353         0.388649   \n",
       "4         0.398153        0.288259        0.437464         0.355965   \n",
       "..             ...             ...             ...              ...   \n",
       "155       0.382378        0.395100        0.506882         0.404242   \n",
       "156       0.382378        0.395100        0.506882         0.404242   \n",
       "157       0.382378        0.395100        0.506882         0.404242   \n",
       "158       0.485341        0.414330        0.514000         0.428009   \n",
       "159       0.382378        0.395100        0.506882         0.404242   \n",
       "\n",
       "     homogeneity_0  homogeneity_45  ...  contrast_135     ASM_0    ASM_45  \\\n",
       "0         0.932486        0.917179  ...   5493.549025  0.804286  0.788199   \n",
       "1         0.952378        0.938240  ...   4044.123377  0.858505  0.843167   \n",
       "2         0.932486        0.917179  ...   5493.549025  0.804286  0.788199   \n",
       "3         0.937824        0.921008  ...   3810.042280  0.841781  0.823179   \n",
       "4         0.946701        0.935126  ...   3817.227365  0.860980  0.848183   \n",
       "..             ...             ...  ...           ...       ...       ...   \n",
       "155       0.941262        0.940818  ...   3790.216905  0.849608  0.846480   \n",
       "156       0.941262        0.940818  ...   3790.216905  0.849608  0.846480   \n",
       "157       0.941262        0.940818  ...   3790.216905  0.849608  0.846480   \n",
       "158       0.911815        0.899682  ...   3585.512001  0.801424  0.787671   \n",
       "159       0.941262        0.940818  ...   3790.216905  0.849608  0.846480   \n",
       "\n",
       "       ASM_90   ASM_135  energy_0  energy_45  energy_90  energy_135  label  \n",
       "0    0.790551  0.786816  0.896820   0.887806   0.889129    0.887027   3333  \n",
       "1    0.849379  0.842788  0.926556   0.918241   0.921618    0.918035   3333  \n",
       "2    0.790551  0.786816  0.896820   0.887806   0.889129    0.887027   3333  \n",
       "3    0.829753  0.822738  0.917486   0.907292   0.910908    0.907049   3333  \n",
       "4    0.862887  0.853592  0.927890   0.920969   0.928917    0.923900   3333  \n",
       "..        ...       ...       ...        ...        ...         ...    ...  \n",
       "155  0.859009  0.847270  0.921742   0.920044   0.926827    0.920472   3334  \n",
       "156  0.859009  0.847270  0.921742   0.920044   0.926827    0.920472   3334  \n",
       "157  0.859009  0.847270  0.921742   0.920044   0.926827    0.920472   3334  \n",
       "158  0.795795  0.788359  0.895223   0.887508   0.892073    0.887896   3334  \n",
       "159  0.859009  0.847270  0.921742   0.920044   0.926827    0.920472   3334  \n",
       "\n",
       "[160 rows x 25 columns]"
      ]
     },
     "execution_count": 48,
     "metadata": {},
     "output_type": "execute_result"
    }
   ],
   "source": [
    "df_data"
   ]
  },
  {
   "cell_type": "code",
   "execution_count": 77,
   "id": "90b3713e-0a1a-4c18-b11d-4b6ff9b3edaf",
   "metadata": {},
   "outputs": [
    {
     "data": {
      "text/plain": [
       "<Axes: xlabel='dissimilarity_0', ylabel='dissimilarity_45'>"
      ]
     },
     "execution_count": 77,
     "metadata": {},
     "output_type": "execute_result"
    },
    {
     "data": {
      "image/png": "[encoded data removed]",
      "text/plain": [
       "<Figure size 640x480 with 1 Axes>"
      ]
     },
     "metadata": {},
     "output_type": "display_data"
    }
   ],
   "source": [
    "sns.scatterplot(x='dissimilarity_0',y='dissimilarity_45',data=df_data)"
   ]
  },
  {
   "cell_type": "code",
   "execution_count": 67,
   "id": "2af2011f-e7f6-412e-b0f5-ee9ab391f0f7",
   "metadata": {},
   "outputs": [],
   "source": [
    "from sklearn.linear_model import LinearRegression\n",
    "from sklearn.model_selection import train_test_split\n",
    "from sklearn.metrices import mean_squared_error as mse"
   ]
  },
  {
   "cell_type": "code",
   "execution_count": 51,
   "id": "86ebdacb-ec90-4be0-9936-b77467b05792",
   "metadata": {},
   "outputs": [],
   "source": [
    "regr=LinearRegression()"
   ]
  },
  {
   "cell_type": "code",
   "execution_count": 52,
   "id": "7ce2ea03-f3ac-4135-a89c-10ba17fd379d",
   "metadata": {},
   "outputs": [
    {
     "data": {
      "text/plain": [
       "Index(['dissimilarity_0', 'dissimilarity_45', 'dissimilarity_90',\n",
       "       'dissimilarity_135', 'correlation_0', 'correlation_45',\n",
       "       'correlation_90', 'correlation_135', 'homogeneity_0', 'homogeneity_45',\n",
       "       'homogeneity_90', 'homogeneity_135', 'contrast_0', 'contrast_45',\n",
       "       'contrast_90', 'contrast_135', 'ASM_0', 'ASM_45', 'ASM_90', 'ASM_135',\n",
       "       'energy_0', 'energy_45', 'energy_90', 'energy_135', 'label'],\n",
       "      dtype='object')"
      ]
     },
     "execution_count": 52,
     "metadata": {},
     "output_type": "execute_result"
    }
   ],
   "source": [
    "df.columns"
   ]
  },
  {
   "cell_type": "code",
   "execution_count": 72,
   "id": "38861f5d-7a09-4377-a471-d02f36c65244",
   "metadata": {},
   "outputs": [],
   "source": [
    "columns=list(df.columns.values)\n",
    "columns.remove('dissimilarity_0')\n",
    "dependent_var=df['dissimilarity_0'].values.reshape(-1,1)"
   ]
  },
  {
   "cell_type": "code",
   "execution_count": 74,
   "id": "c8da6f57-75de-4bcb-bb11-168c9742a6cb",
   "metadata": {},
   "outputs": [
    {
     "name": "stdout",
     "output_type": "stream",
     "text": [
      "3.946148971389132\n",
      "6.468023587149642\n",
      "3.118694022473528\n",
      "0.02218549101508705\n",
      "0.031082588817169157\n",
      "0.02936401821884888\n",
      "0.03208572219606548\n",
      "0.00016126133294438837\n",
      "0.00023218185833171327\n",
      "0.0002935284273396239\n",
      "0.00023567845737101537\n",
      "32000.051437046004\n",
      "288421.9800373299\n",
      "463704.11110320705\n",
      "264420.54008603113\n",
      "0.0004987636795874916\n",
      "0.0008813905630220452\n",
      "0.0008022903175542604\n",
      "0.0008353720518730189\n",
      "0.00016275361624564015\n",
      "0.00021956165845455911\n",
      "0.0002667646778882514\n",
      "0.00024806540585890774\n",
      "493.76531717173765\n"
     ]
    }
   ],
   "source": [
    "for i in columns:\n",
    "    independent_var=df[i].values.reshape(-1,1)\n",
    "    X_train,X_test,y_train,y_test=train_test_split(dependent_var,independent_var,test_size=0.3)\n",
    "    regr.fit(X_train,y_train)\n",
    "    prediction=regr.predict(X_test)\n",
    "    print(mse(prediction,y_test))"
   ]
  },
  {
   "cell_type": "code",
   "execution_count": 94,
   "id": "588bc414-7f5c-4a15-86e1-f67432f82970",
   "metadata": {},
   "outputs": [],
   "source": [
    "from sklearn.linear_model import LogisticRegression\n",
    "from sklearn.metrics import accuracy_score\n",
    "logregr=LogisticRegression()"
   ]
  },
  {
   "cell_type": "code",
   "execution_count": 93,
   "id": "a74f0b79-959c-4df6-9e51-4460290065da",
   "metadata": {},
   "outputs": [],
   "source": [
    "X_train,X_test,y_train,y_test=train_test_split(df_data.drop('label',axis=1),df_data['label'],test_size=0.3)\n",
    "logregr.fit(X_train,y_train)\n",
    "prediction=logregr.predict(X_test)\n"
   ]
  },
  {
   "cell_type": "code",
   "execution_count": 95,
   "id": "f11a0e55-29ae-43d2-b101-eea577cb5119",
   "metadata": {},
   "outputs": [
    {
     "data": {
      "text/plain": [
       "0.6666666666666666"
      ]
     },
     "execution_count": 95,
     "metadata": {},
     "output_type": "execute_result"
    }
   ],
   "source": [
    "accuracy_score(y_test,prediction)"
   ]
  },
  {
   "cell_type": "code",
   "execution_count": 98,
   "id": "7beb94ab-c8a2-4ed7-a838-31106d7f475f",
   "metadata": {},
   "outputs": [],
   "source": [
    "from sklearn.neighbors import KNeighborsRegressor"
   ]
  },
  {
   "cell_type": "code",
   "execution_count": 101,
   "id": "e6194334-b5b8-4f4c-8c40-b3cfa1b14ec6",
   "metadata": {},
   "outputs": [
    {
     "name": "stdout",
     "output_type": "stream",
     "text": [
      "2.7542496782378416\n",
      "4.867558380667152\n",
      "2.809884242218637\n",
      "0.008331729659057157\n",
      "0.004600455880625607\n",
      "0.003920894752806486\n",
      "0.005188019429655306\n",
      "0.00015461208997007896\n",
      "0.00020252429521978255\n",
      "0.0002519010350197184\n",
      "0.00020753309725621538\n",
      "27410.721331870813\n",
      "190601.21601948276\n",
      "322176.16947894444\n",
      "217905.42619418763\n",
      "0.0004646966833949341\n",
      "0.0007058047844665883\n",
      "0.0008016839962792696\n",
      "0.0006675282540340852\n",
      "0.00014995589156956176\n",
      "0.00017486600158245935\n",
      "0.00023524556102928572\n",
      "0.0001773641287361105\n"
     ]
    }
   ],
   "source": [
    "knn=KNeighborsRegressor(n_neighbors=5)\n",
    "for i in columns:\n",
    "    independent_var=df[i].values.reshape(-1,1)\n",
    "    X_train,X_test,y_train,y_test=train_test_split(dependent_var,independent_var,test_size=0.3)\n",
    "    knn.fit(X_train,y_train)\n",
    "    prediction=knn.predict(X_test)\n",
    "    print(mse(prediction,y_test))"
   ]
  },
  {
   "cell_type": "code",
   "execution_count": null,
   "id": "b651dccf-3443-4ebe-bbd4-23d0ac6d89e4",
   "metadata": {},
   "outputs": [],
   "source": []
  }
 ],
 "metadata": {
  "kernelspec": {
   "display_name": "Python 3 (ipykernel)",
   "language": "python",
   "name": "python3"
  },
  "language_info": {
   "codemirror_mode": {
    "name": "ipython",
    "version": 3
   },
   "file_extension": ".py",
   "mimetype": "text/x-python",
   "name": "python",
   "nbconvert_exporter": "python",
   "pygments_lexer": "ipython3",
   "version": "3.12.0"
  }
 },
 "nbformat": 4,
 "nbformat_minor": 5
}
